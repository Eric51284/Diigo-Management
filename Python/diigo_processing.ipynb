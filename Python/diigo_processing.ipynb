{
 "cells": [
  {
   "cell_type": "code",
   "execution_count": 1,
   "id": "da1b3c8f",
   "metadata": {},
   "outputs": [],
   "source": [
    "import process_diigo_doc"
   ]
  },
  {
   "cell_type": "code",
   "execution_count": 2,
   "id": "1627a9cc",
   "metadata": {},
   "outputs": [],
   "source": [
    "    # File paths (adjust these to your actual file locations)\n",
    "docx_path = r\"..\\Source files\\Diigo Outlined Articles.docx\"\n",
    "csv_path = r\"..\\Source files\\4363307_csv_2025_07_29_23a03.csv\"\n",
    "output_path = r\"..\\Output files\\Research_Outline_with_Links_t.xlsx\"\n"
   ]
  },
  {
   "cell_type": "code",
   "execution_count": null,
   "id": "57dd3997",
   "metadata": {},
   "outputs": [
    {
     "ename": "TypeError",
     "evalue": "'module' object is not callable",
     "output_type": "error",
     "traceback": [
      "\u001b[1;31m---------------------------------------------------------------------------\u001b[0m",
      "\u001b[1;31mTypeError\u001b[0m                                 Traceback (most recent call last)",
      "Cell \u001b[1;32mIn[4], line 1\u001b[0m\n\u001b[1;32m----> 1\u001b[0m process_diigo_doc(docx_path, csv_path, output_path)\n",
      "\u001b[1;31mTypeError\u001b[0m: 'module' object is not callable"
     ]
    }
   ],
   "source": [
    "process_diigo_doc.main(docx_path, csv_path, output_path)"
   ]
  }
 ],
 "metadata": {
  "kernelspec": {
   "display_name": "PyR2025",
   "language": "python",
   "name": "python3"
  },
  "language_info": {
   "codemirror_mode": {
    "name": "ipython",
    "version": 3
   },
   "file_extension": ".py",
   "mimetype": "text/x-python",
   "name": "python",
   "nbconvert_exporter": "python",
   "pygments_lexer": "ipython3",
   "version": "3.11.11"
  }
 },
 "nbformat": 4,
 "nbformat_minor": 5
}
